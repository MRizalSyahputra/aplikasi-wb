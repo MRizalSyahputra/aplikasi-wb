{
 "cells": [
  {
   "cell_type": "code",
   "execution_count": 1,
   "metadata": {},
   "outputs": [
    {
     "name": "stdout",
     "output_type": "stream",
     "text": [
      "Halo ngabs\n"
     ]
    }
   ],
   "source": [
    "#hello world\n",
    "print('Halo ngabs')"
   ]
  },
  {
   "cell_type": "code",
   "execution_count": 3,
   "metadata": {},
   "outputs": [
    {
     "name": "stdout",
     "output_type": "stream",
     "text": [
      "9829\n",
      "9829 adalah angka ribuan\n"
     ]
    }
   ],
   "source": [
    "#variabel\n",
    "a = 9829\n",
    "print (a)\n",
    "print (a, \"adalah angka ribuan\")"
   ]
  },
  {
   "cell_type": "code",
   "execution_count": 8,
   "metadata": {},
   "outputs": [
    {
     "name": "stdout",
     "output_type": "stream",
     "text": [
      "x + y =  50\n",
      "z - x =  50\n",
      "y * z =  2275\n",
      "8z / 2x =  17.333333333333332\n",
      "Hasil bagi z terhadap y adalah =  1\n",
      "Sisa pembagian z terhadap y adalah =  30\n",
      "x^y =  145610960604971353313885629177093505859375\n",
      "48\n",
      "13.0\n"
     ]
    }
   ],
   "source": [
    "#operator\n",
    "\n",
    "x = 15\n",
    "y = 35\n",
    "z = 65\n",
    "\n",
    "print('x + y = ', x + y)\n",
    "print('z - x = ', z - x)\n",
    "print('y * z = ', y * z)\n",
    "print('8z / 2x = ', (8*z) / (2*x))\n",
    "print('Hasil bagi z terhadap y adalah = ', z//y)\n",
    "print('Sisa pembagian z terhadap y adalah = ', z%y)\n",
    "print('x^y = ', x**y)\n",
    "\n",
    "y += 13\n",
    "print(y)\n",
    "\n",
    "z /= 5\n",
    "print(z)\n"
   ]
  },
  {
   "cell_type": "code",
   "execution_count": 7,
   "metadata": {},
   "outputs": [
    {
     "name": "stdout",
     "output_type": "stream",
     "text": [
      "list x =  []\n",
      "list y =  [6, 7, 4, 5, 2, 9]\n",
      "list z =  [6.3, 'Ambon', 7, 9.9, 30, 'Pisang']\n",
      "\n",
      "[6, 7, 9, 5, 2, 9]\n",
      "Pisang\n",
      "30\n"
     ]
    }
   ],
   "source": [
    "#Struktur data - List\n",
    "\n",
    "\n",
    "#List Kosong\n",
    "listx = []\n",
    "#List integer\n",
    "listy = [6, 7, 4, 5, 2, 9]\n",
    "#List dengan macam-macam tipe data\n",
    "listz = [6.3, 'Ambon', 7, 9.90, 30, 'Pisang']\n",
    "print('list x = ', listx)\n",
    "print('list y = ', listy)\n",
    "print('list z = ', listz)\n",
    "\n",
    "print()\n",
    "\n",
    "#akses list\n",
    "listy[2] = 9 #ganti data pada indeks tertentu dengan data baru\n",
    "print(listy)\n",
    "print(listz[-1]) #print data terakhir\n",
    "print(listz[-2]) #print data sebelum data terakhir\n"
   ]
  },
  {
   "cell_type": "code",
   "execution_count": 9,
   "metadata": {},
   "outputs": [
    {
     "name": "stdout",
     "output_type": "stream",
     "text": [
      "('Soto Lamongan', 'Rawon', 'Kebab', 'Ayam Penyet')\n"
     ]
    },
    {
     "ename": "TypeError",
     "evalue": "'tuple' object does not support item assignment",
     "output_type": "error",
     "traceback": [
      "\u001b[1;31m---------------------------------------------------------------------------\u001b[0m",
      "\u001b[1;31mTypeError\u001b[0m                                 Traceback (most recent call last)",
      "Cell \u001b[1;32mIn[9], line 5\u001b[0m\n\u001b[0;32m      3\u001b[0m items \u001b[38;5;241m=\u001b[39m (\u001b[38;5;124m'\u001b[39m\u001b[38;5;124mSoto Lamongan\u001b[39m\u001b[38;5;124m'\u001b[39m, \u001b[38;5;124m'\u001b[39m\u001b[38;5;124mRawon\u001b[39m\u001b[38;5;124m'\u001b[39m, \u001b[38;5;124m'\u001b[39m\u001b[38;5;124mKebab\u001b[39m\u001b[38;5;124m'\u001b[39m, \u001b[38;5;124m'\u001b[39m\u001b[38;5;124mAyam Penyet\u001b[39m\u001b[38;5;124m'\u001b[39m)\n\u001b[0;32m      4\u001b[0m \u001b[38;5;28mprint\u001b[39m(items)\n\u001b[1;32m----> 5\u001b[0m \u001b[43mitems\u001b[49m\u001b[43m[\u001b[49m\u001b[38;5;241;43m1\u001b[39;49m\u001b[43m]\u001b[49m \u001b[38;5;241m=\u001b[39m \u001b[38;5;124m'\u001b[39m\u001b[38;5;124mMakaroni\u001b[39m\u001b[38;5;124m'\u001b[39m \u001b[38;5;66;03m#sebenarnya tidak dapat diganti\u001b[39;00m\n\u001b[0;32m      6\u001b[0m \u001b[38;5;28mprint\u001b[39m(items) \u001b[38;5;66;03m#error\u001b[39;00m\n",
      "\u001b[1;31mTypeError\u001b[0m: 'tuple' object does not support item assignment"
     ]
    }
   ],
   "source": [
    "#Struktur data - tuples\n",
    "\n",
    "items = ('Soto Lamongan', 'Rawon', 'Kebab', 'Ayam Penyet')\n",
    "print(items)\n",
    "items[1] = 'Makaroni' #sebenarnya tidak dapat diganti, dan menyebabkan error\n",
    "print(items) #error"
   ]
  },
  {
   "cell_type": "code",
   "execution_count": 11,
   "metadata": {},
   "outputs": [
    {
     "name": "stdout",
     "output_type": "stream",
     "text": [
      "{1, 2, 4, 7, 8, 9}\n",
      "('Samsul', 'Ahmad', 'Bakri', 'Samsul', 'Andi', 'Tejo', 'Ahmad', 'Anton', 'Supri')\n",
      "{'Bakri', 'Supri', 'Ahmad', 'Samsul', 'Andi', 'Anton', 'Tejo'}\n"
     ]
    }
   ],
   "source": [
    "#Struktur data - set\n",
    "\n",
    "setnomor = {8, 9, 1, 2, 4, 7, 8, 9, 1, 2, 4, 7}\n",
    "print(setnomor) #data nomor otomatis diurutkan dan hanya diambil data unique\n",
    "\n",
    "listnama = ('Samsul', 'Ahmad', 'Bakri', 'Samsul', 'Andi', 'Tejo', 'Ahmad', 'Anton', 'Supri')\n",
    "print(listnama)\n",
    "print(set(listnama)) #set  bisa digunakan untuk mendapat nilai unique dari suatu data, selain itu, nilai string tidak akan diurutkan sesuai abjad"
   ]
  },
  {
   "cell_type": "code",
   "execution_count": 52,
   "metadata": {},
   "outputs": [
    {
     "name": "stdout",
     "output_type": "stream",
     "text": [
      "Menu spesial hari ini adalah  {1: 'dong telo', 2: 'dong kates', 3: 'jangan lombok', 4: 'bekicot tumis', 5: 'soto', 6: 'bakso'}\n",
      "[{'nama': 'Agus', 'NIM': '2341414'}, {'nama': 'Budi', 'NIM': '231918'}, {'nama': 'Cahyo', 'NIM': '2352134'}, {'nama': 'Deni', 'NIM': '2361928'}, {'nama': 'Eko', 'NIM': '2371823'}]\n"
     ]
    }
   ],
   "source": [
    "# struktur data - dictionary \n",
    "\n",
    "menu = {1 : 'dong telo', 2 : 'dong kates', 3 : 'jangan lombok', 4 : 'bekicot tumis', 5 : 'soto', 6 : 'bakso'}\n",
    "\n",
    "print('Menu spesial hari ini adalah ', menu)\n",
    "\n",
    "data = {'mhs' : [{'nama': 'Agus', 'NIM': '2341414'}, {'nama': 'Budi', 'NIM': '231918'}, {'nama': 'Cahyo', 'NIM': '2352134'}, {'nama': 'Deni', 'NIM': '2361928'}, {'nama': 'Eko', 'NIM': '2371823'}]}\n",
    "\n",
    "print(data['mhs'])"
   ]
  },
  {
   "cell_type": "code",
   "execution_count": 33,
   "metadata": {},
   "outputs": [],
   "source": [
    "# if else\n",
    "\n",
    "pesanan = 'ayam goreng'  \n",
    "\n",
    "if pesanan == 'bakso':\n",
    "    print('Bakso utiwi')\n",
    "elif pesanan == 'soto':\n",
    "    print('Soto utiwi')\n",
    "elif pesanan == 'mi rebus':\n",
    "    print('Mi rebus utiwi')\n",
    "else:\n",
    "    print('Kamu maunya apaan sih?') "
   ]
  },
  {
   "cell_type": "code",
   "execution_count": 43,
   "metadata": {},
   "outputs": [
    {
     "name": "stdout",
     "output_type": "stream",
     "text": [
      "3\n",
      "15\n",
      "75\n"
     ]
    }
   ],
   "source": [
    "#while loop\n",
    "\n",
    "n = 75\n",
    "\n",
    "x = 3\n",
    "i = 5\n",
    "\n",
    "while x <= n:\n",
    "    print(x)\n",
    "    x = x * i\n"
   ]
  },
  {
   "cell_type": "code",
   "execution_count": 46,
   "metadata": {},
   "outputs": [
    {
     "name": "stdout",
     "output_type": "stream",
     "text": [
      "1 tidak bisa dibagi tiga\n",
      "2 tidak bisa dibagi tiga\n",
      "3 bisa dibagi tiga\n",
      "4 tidak bisa dibagi tiga\n",
      "5 tidak bisa dibagi tiga\n",
      "6 bisa dibagi tiga\n",
      "7 tidak bisa dibagi tiga\n",
      "8 tidak bisa dibagi tiga\n",
      "9 bisa dibagi tiga\n",
      "10 tidak bisa dibagi tiga\n",
      "11 tidak bisa dibagi tiga\n",
      "12 bisa dibagi tiga\n",
      "13 tidak bisa dibagi tiga\n",
      "14 tidak bisa dibagi tiga\n",
      "15 bisa dibagi tiga\n",
      "16 tidak bisa dibagi tiga\n",
      "17 tidak bisa dibagi tiga\n",
      "18 bisa dibagi tiga\n",
      "19 tidak bisa dibagi tiga\n",
      "20 tidak bisa dibagi tiga\n",
      "21 bisa dibagi tiga\n",
      "22 tidak bisa dibagi tiga\n",
      "23 tidak bisa dibagi tiga\n",
      "24 bisa dibagi tiga\n"
     ]
    }
   ],
   "source": [
    "# for loop\n",
    "\n",
    "angka = (1, 2, 3, 4, 5, 6, 7, 8, 9, 10, 11, 12, 13, 14, 15, 16, 17, 18, 19, 20, 21, 22, 23, 24)\n",
    "\n",
    "for n in angka:\n",
    "    if n%3 == 0:\n",
    "        print(n, 'bisa dibagi tiga')\n",
    "    else :\n",
    "        print(n, 'tidak bisa dibagi tiga')"
   ]
  },
  {
   "cell_type": "code",
   "execution_count": 50,
   "metadata": {},
   "outputs": [
    {
     "name": "stdout",
     "output_type": "stream",
     "text": [
      "A\n",
      "A\n",
      "A-\n",
      "B\n",
      "B+\n",
      "B-\n",
      "1\n",
      "4\n",
      "2\n",
      "5\n",
      "5\n",
      "3\n",
      "4\n",
      "7\n"
     ]
    }
   ],
   "source": [
    "#break\n",
    "\n",
    "nilai = ('A', 'A', 'A-', 'B', 'B+', 'B-', 'D', 'D', 'E', 'A', 'A', 'C')\n",
    "\n",
    "for val in nilai :\n",
    "    if val == 'D' :\n",
    "        break\n",
    "    print(val)\n",
    "\n",
    "\n",
    "angka = (1, 4, 2, 5, 5, 3, 4, 7, 8, 4, 3, 6, 7, 9, 13, 3)\n",
    "\n",
    "for val in angka :\n",
    "    if val%8 == 0 :\n",
    "        break\n",
    "    print(val)\n",
    "\n",
    "\n"
   ]
  },
  {
   "cell_type": "code",
   "execution_count": 55,
   "metadata": {},
   "outputs": [
    {
     "name": "stdout",
     "output_type": "stream",
     "text": [
      "A-\n",
      "B\n",
      "B+\n",
      "B-\n",
      "D\n",
      "D\n",
      "E\n",
      "C\n",
      "1\n",
      "4\n",
      "2\n",
      "5\n",
      "5\n",
      "4\n",
      "7\n",
      "4\n",
      "7\n"
     ]
    }
   ],
   "source": [
    "#continue\n",
    "\n",
    "nilai = ('A', 'A', 'A-', 'B', 'B+', 'B-', 'D', 'D', 'E', 'A', 'A', 'C')\n",
    "\n",
    "for val in nilai :\n",
    "    if val == 'A' :\n",
    "        continue\n",
    "    print(val)\n",
    "\n",
    "\n",
    "angka = (1, 4, 2, 5, 5, 3, 4, 7, 8, 4, 3, 6, 7, 9, 13, 3)\n",
    "\n",
    "for val in angka :\n",
    "    if val%3 == 0 or val%5 == 3 :\n",
    "        continue\n",
    "    print(val)"
   ]
  },
  {
   "cell_type": "code",
   "execution_count": 58,
   "metadata": {},
   "outputs": [
    {
     "name": "stdout",
     "output_type": "stream",
     "text": [
      "Ahmad A\n",
      "Andi B\n",
      "Ciko B+\n"
     ]
    }
   ],
   "source": [
    "#pass\n",
    "\n",
    "ingfo = {'Ahmad': 'A', 'Andi': 'B', 'Ciko': 'B+', 'Budi': 'C', 'Roni': 'D'}\n",
    "\n",
    "for nama, nilai in ingfo.items():\n",
    "    if nilai == 'C' or nilai == 'D':\n",
    "        pass  \n",
    "    else:\n",
    "        print(nama, nilai)"
   ]
  },
  {
   "cell_type": "code",
   "execution_count": 68,
   "metadata": {},
   "outputs": [
    {
     "name": "stdout",
     "output_type": "stream",
     "text": [
      "82177731\n",
      "I\n",
      "1679616\n"
     ]
    }
   ],
   "source": [
    "#function\n",
    "\n",
    "def kelas () :\n",
    "    print ('I')\n",
    "\n",
    "def NIM () :\n",
    "    print ('82177731')\n",
    "\n",
    "\n",
    "NIM()\n",
    "kelas()\n",
    "\n",
    "\n",
    "def pangkat (a, b):\n",
    "    pow = a**b\n",
    "    return pow\n",
    "\n",
    "hitung = pangkat(6, 8)\n",
    "print (hitung)"
   ]
  },
  {
   "cell_type": "code",
   "execution_count": 74,
   "metadata": {},
   "outputs": [
    {
     "name": "stdout",
     "output_type": "stream",
     "text": [
      "68\n",
      "5\n"
     ]
    }
   ],
   "source": [
    "#lambdafunction\n",
    "\n",
    "fx = lambda x : x**2 - 2*x + 5\n",
    "\n",
    "print(fx(9))\n",
    "print(fx(0))"
   ]
  },
  {
   "cell_type": "code",
   "execution_count": 79,
   "metadata": {},
   "outputs": [
    {
     "name": "stdout",
     "output_type": "stream",
     "text": [
      "Inspiring Innovation, persistent perfection it lies within\n"
     ]
    }
   ],
   "source": [
    "#input output\n",
    "\n",
    "with open('week2.txt', 'w', encoding='utf-8') as f :\n",
    "    f.write('Inspiring Innovation, persistent perfection ')\n",
    "    f.write('it lies within')  \n"
   ]
  },
  {
   "cell_type": "code",
   "execution_count": 81,
   "metadata": {},
   "outputs": [
    {
     "name": "stdout",
     "output_type": "stream",
     "text": [
      "Inspiring Innovation, persistent perfection it lies within\n"
     ]
    }
   ],
   "source": [
    "f = open(\"week2.txt\",'r',encoding = 'utf-8')\n",
    "print(f.read() )"
   ]
  },
  {
   "cell_type": "code",
   "execution_count": 90,
   "metadata": {},
   "outputs": [
    {
     "name": "stdout",
     "output_type": "stream",
     "text": [
      "Hari ini adalah tanggal 2024-08-24\n",
      "format HH/BB/TTTT : 24/08/2024\n"
     ]
    }
   ],
   "source": [
    "#waktu dan tanggal\n",
    "\n",
    "from datetime import date\n",
    "\n",
    "tanggal = date.today()\n",
    "print('Hari ini adalah tanggal', tanggal)\n",
    "\n",
    "format = tanggal.strftime(\"%d/%m/%Y\")\n",
    "print(\"format HH/BB/TTTT :\", format)"
   ]
  }
 ],
 "metadata": {
  "kernelspec": {
   "display_name": "streamlit",
   "language": "python",
   "name": "python3"
  },
  "language_info": {
   "codemirror_mode": {
    "name": "ipython",
    "version": 3
   },
   "file_extension": ".py",
   "mimetype": "text/x-python",
   "name": "python",
   "nbconvert_exporter": "python",
   "pygments_lexer": "ipython3",
   "version": "3.12.5"
  }
 },
 "nbformat": 4,
 "nbformat_minor": 2
}
