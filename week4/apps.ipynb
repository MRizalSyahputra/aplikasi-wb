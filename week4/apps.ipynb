{
 "cells": [
  {
   "cell_type": "code",
   "execution_count": 10,
   "metadata": {},
   "outputs": [],
   "source": [
    "import pandas as pd\n",
    "import numpy as np"
   ]
  },
  {
   "cell_type": "code",
   "execution_count": 11,
   "metadata": {},
   "outputs": [],
   "source": [
    "URL = \"C:\\\\Users\\\\ACER\\\\Downloads\\\\uber-raw-data-sep14.csv.gz\"\n",
    "date = 'date/time'"
   ]
  },
  {
   "cell_type": "code",
   "execution_count": 13,
   "metadata": {},
   "outputs": [
    {
     "data": {
      "text/html": [
       "<div>\n",
       "<style scoped>\n",
       "    .dataframe tbody tr th:only-of-type {\n",
       "        vertical-align: middle;\n",
       "    }\n",
       "\n",
       "    .dataframe tbody tr th {\n",
       "        vertical-align: top;\n",
       "    }\n",
       "\n",
       "    .dataframe thead th {\n",
       "        text-align: right;\n",
       "    }\n",
       "</style>\n",
       "<table border=\"1\" class=\"dataframe\">\n",
       "  <thead>\n",
       "    <tr style=\"text-align: right;\">\n",
       "      <th></th>\n",
       "      <th>Date/Time</th>\n",
       "      <th>Lat</th>\n",
       "      <th>Lon</th>\n",
       "      <th>Base</th>\n",
       "    </tr>\n",
       "  </thead>\n",
       "  <tbody>\n",
       "    <tr>\n",
       "      <th>0</th>\n",
       "      <td>9/1/2014 0:01:00</td>\n",
       "      <td>40.2201</td>\n",
       "      <td>-74.0021</td>\n",
       "      <td>B02512</td>\n",
       "    </tr>\n",
       "    <tr>\n",
       "      <th>1</th>\n",
       "      <td>9/1/2014 0:01:00</td>\n",
       "      <td>40.7500</td>\n",
       "      <td>-74.0027</td>\n",
       "      <td>B02512</td>\n",
       "    </tr>\n",
       "    <tr>\n",
       "      <th>2</th>\n",
       "      <td>9/1/2014 0:03:00</td>\n",
       "      <td>40.7559</td>\n",
       "      <td>-73.9864</td>\n",
       "      <td>B02512</td>\n",
       "    </tr>\n",
       "    <tr>\n",
       "      <th>3</th>\n",
       "      <td>9/1/2014 0:06:00</td>\n",
       "      <td>40.7450</td>\n",
       "      <td>-73.9889</td>\n",
       "      <td>B02512</td>\n",
       "    </tr>\n",
       "    <tr>\n",
       "      <th>4</th>\n",
       "      <td>9/1/2014 0:11:00</td>\n",
       "      <td>40.8145</td>\n",
       "      <td>-73.9444</td>\n",
       "      <td>B02512</td>\n",
       "    </tr>\n",
       "    <tr>\n",
       "      <th>...</th>\n",
       "      <td>...</td>\n",
       "      <td>...</td>\n",
       "      <td>...</td>\n",
       "      <td>...</td>\n",
       "    </tr>\n",
       "    <tr>\n",
       "      <th>99995</th>\n",
       "      <td>9/9/2014 10:37:00</td>\n",
       "      <td>40.7566</td>\n",
       "      <td>-73.9921</td>\n",
       "      <td>B02598</td>\n",
       "    </tr>\n",
       "    <tr>\n",
       "      <th>99996</th>\n",
       "      <td>9/9/2014 10:37:00</td>\n",
       "      <td>40.7388</td>\n",
       "      <td>-73.9899</td>\n",
       "      <td>B02598</td>\n",
       "    </tr>\n",
       "    <tr>\n",
       "      <th>99997</th>\n",
       "      <td>9/9/2014 10:38:00</td>\n",
       "      <td>40.7260</td>\n",
       "      <td>-74.0007</td>\n",
       "      <td>B02598</td>\n",
       "    </tr>\n",
       "    <tr>\n",
       "      <th>99998</th>\n",
       "      <td>9/9/2014 10:38:00</td>\n",
       "      <td>40.7342</td>\n",
       "      <td>-73.8714</td>\n",
       "      <td>B02598</td>\n",
       "    </tr>\n",
       "    <tr>\n",
       "      <th>99999</th>\n",
       "      <td>9/9/2014 10:38:00</td>\n",
       "      <td>40.7550</td>\n",
       "      <td>-73.9366</td>\n",
       "      <td>B02598</td>\n",
       "    </tr>\n",
       "  </tbody>\n",
       "</table>\n",
       "<p>100000 rows × 4 columns</p>\n",
       "</div>"
      ],
      "text/plain": [
       "               Date/Time      Lat      Lon    Base\n",
       "0       9/1/2014 0:01:00  40.2201 -74.0021  B02512\n",
       "1       9/1/2014 0:01:00  40.7500 -74.0027  B02512\n",
       "2       9/1/2014 0:03:00  40.7559 -73.9864  B02512\n",
       "3       9/1/2014 0:06:00  40.7450 -73.9889  B02512\n",
       "4       9/1/2014 0:11:00  40.8145 -73.9444  B02512\n",
       "...                  ...      ...      ...     ...\n",
       "99995  9/9/2014 10:37:00  40.7566 -73.9921  B02598\n",
       "99996  9/9/2014 10:37:00  40.7388 -73.9899  B02598\n",
       "99997  9/9/2014 10:38:00  40.7260 -74.0007  B02598\n",
       "99998  9/9/2014 10:38:00  40.7342 -73.8714  B02598\n",
       "99999  9/9/2014 10:38:00  40.7550 -73.9366  B02598\n",
       "\n",
       "[100000 rows x 4 columns]"
      ]
     },
     "execution_count": 13,
     "metadata": {},
     "output_type": "execute_result"
    }
   ],
   "source": [
    "data = pd.read_csv(URL, nrows=100000)\n",
    "data"
   ]
  },
  {
   "cell_type": "code",
   "execution_count": 14,
   "metadata": {},
   "outputs": [
    {
     "data": {
      "text/html": [
       "<div>\n",
       "<style scoped>\n",
       "    .dataframe tbody tr th:only-of-type {\n",
       "        vertical-align: middle;\n",
       "    }\n",
       "\n",
       "    .dataframe tbody tr th {\n",
       "        vertical-align: top;\n",
       "    }\n",
       "\n",
       "    .dataframe thead th {\n",
       "        text-align: right;\n",
       "    }\n",
       "</style>\n",
       "<table border=\"1\" class=\"dataframe\">\n",
       "  <thead>\n",
       "    <tr style=\"text-align: right;\">\n",
       "      <th></th>\n",
       "      <th>date/time</th>\n",
       "      <th>lat</th>\n",
       "      <th>lon</th>\n",
       "      <th>base</th>\n",
       "    </tr>\n",
       "  </thead>\n",
       "  <tbody>\n",
       "    <tr>\n",
       "      <th>0</th>\n",
       "      <td>2014-09-01 00:01:00</td>\n",
       "      <td>40.2201</td>\n",
       "      <td>-74.0021</td>\n",
       "      <td>B02512</td>\n",
       "    </tr>\n",
       "    <tr>\n",
       "      <th>1</th>\n",
       "      <td>2014-09-01 00:01:00</td>\n",
       "      <td>40.7500</td>\n",
       "      <td>-74.0027</td>\n",
       "      <td>B02512</td>\n",
       "    </tr>\n",
       "    <tr>\n",
       "      <th>2</th>\n",
       "      <td>2014-09-01 00:03:00</td>\n",
       "      <td>40.7559</td>\n",
       "      <td>-73.9864</td>\n",
       "      <td>B02512</td>\n",
       "    </tr>\n",
       "    <tr>\n",
       "      <th>3</th>\n",
       "      <td>2014-09-01 00:06:00</td>\n",
       "      <td>40.7450</td>\n",
       "      <td>-73.9889</td>\n",
       "      <td>B02512</td>\n",
       "    </tr>\n",
       "    <tr>\n",
       "      <th>4</th>\n",
       "      <td>2014-09-01 00:11:00</td>\n",
       "      <td>40.8145</td>\n",
       "      <td>-73.9444</td>\n",
       "      <td>B02512</td>\n",
       "    </tr>\n",
       "    <tr>\n",
       "      <th>...</th>\n",
       "      <td>...</td>\n",
       "      <td>...</td>\n",
       "      <td>...</td>\n",
       "      <td>...</td>\n",
       "    </tr>\n",
       "    <tr>\n",
       "      <th>99995</th>\n",
       "      <td>2014-09-09 10:37:00</td>\n",
       "      <td>40.7566</td>\n",
       "      <td>-73.9921</td>\n",
       "      <td>B02598</td>\n",
       "    </tr>\n",
       "    <tr>\n",
       "      <th>99996</th>\n",
       "      <td>2014-09-09 10:37:00</td>\n",
       "      <td>40.7388</td>\n",
       "      <td>-73.9899</td>\n",
       "      <td>B02598</td>\n",
       "    </tr>\n",
       "    <tr>\n",
       "      <th>99997</th>\n",
       "      <td>2014-09-09 10:38:00</td>\n",
       "      <td>40.7260</td>\n",
       "      <td>-74.0007</td>\n",
       "      <td>B02598</td>\n",
       "    </tr>\n",
       "    <tr>\n",
       "      <th>99998</th>\n",
       "      <td>2014-09-09 10:38:00</td>\n",
       "      <td>40.7342</td>\n",
       "      <td>-73.8714</td>\n",
       "      <td>B02598</td>\n",
       "    </tr>\n",
       "    <tr>\n",
       "      <th>99999</th>\n",
       "      <td>2014-09-09 10:38:00</td>\n",
       "      <td>40.7550</td>\n",
       "      <td>-73.9366</td>\n",
       "      <td>B02598</td>\n",
       "    </tr>\n",
       "  </tbody>\n",
       "</table>\n",
       "<p>100000 rows × 4 columns</p>\n",
       "</div>"
      ],
      "text/plain": [
       "                date/time      lat      lon    base\n",
       "0     2014-09-01 00:01:00  40.2201 -74.0021  B02512\n",
       "1     2014-09-01 00:01:00  40.7500 -74.0027  B02512\n",
       "2     2014-09-01 00:03:00  40.7559 -73.9864  B02512\n",
       "3     2014-09-01 00:06:00  40.7450 -73.9889  B02512\n",
       "4     2014-09-01 00:11:00  40.8145 -73.9444  B02512\n",
       "...                   ...      ...      ...     ...\n",
       "99995 2014-09-09 10:37:00  40.7566 -73.9921  B02598\n",
       "99996 2014-09-09 10:37:00  40.7388 -73.9899  B02598\n",
       "99997 2014-09-09 10:38:00  40.7260 -74.0007  B02598\n",
       "99998 2014-09-09 10:38:00  40.7342 -73.8714  B02598\n",
       "99999 2014-09-09 10:38:00  40.7550 -73.9366  B02598\n",
       "\n",
       "[100000 rows x 4 columns]"
      ]
     },
     "execution_count": 14,
     "metadata": {},
     "output_type": "execute_result"
    }
   ],
   "source": [
    "lowercase = lambda x: str(x).lower() \n",
    "data.rename(lowercase, axis='columns', inplace=True)\n",
    "\n",
    "data[date] = pd.to_datetime(data[date])\n",
    "data"
   ]
  },
  {
   "cell_type": "code",
   "execution_count": 15,
   "metadata": {},
   "outputs": [
    {
     "data": {
      "text/plain": [
       "(array([2189, 1279,  829,  961, 1169, 1934, 3185, 4231, 4507, 3968, 3932,\n",
       "        3977, 4159, 4556, 5255, 6139, 6816, 6978, 7159, 6573, 6072, 5725,\n",
       "        4951, 3456]),\n",
       " array([ 0.,  1.,  2.,  3.,  4.,  5.,  6.,  7.,  8.,  9., 10., 11., 12.,\n",
       "        13., 14., 15., 16., 17., 18., 19., 20., 21., 22., 23., 24.]))"
      ]
     },
     "execution_count": 15,
     "metadata": {},
     "output_type": "execute_result"
    }
   ],
   "source": [
    "np.histogram(data[date].dt.hour, bins=24, range=(0,24))"
   ]
  },
  {
   "cell_type": "code",
   "execution_count": 16,
   "metadata": {},
   "outputs": [
    {
     "data": {
      "text/plain": [
       "array([2189, 1279,  829,  961, 1169, 1934, 3185, 4231, 4507, 3968, 3932,\n",
       "       3977, 4159, 4556, 5255, 6139, 6816, 6978, 7159, 6573, 6072, 5725,\n",
       "       4951, 3456])"
      ]
     },
     "execution_count": 16,
     "metadata": {},
     "output_type": "execute_result"
    }
   ],
   "source": [
    "hist_values = np.histogram(data[date].dt.hour, bins=24, range=(0,24))[0]\n",
    "hist_values"
   ]
  },
  {
   "cell_type": "code",
   "execution_count": 17,
   "metadata": {},
   "outputs": [
    {
     "data": {
      "text/plain": [
       "<BarContainer object of 24 artists>"
      ]
     },
     "execution_count": 17,
     "metadata": {},
     "output_type": "execute_result"
    },
    {
     "data": {
      "image/png": "[encoded data removed]",
      "text/plain": [
       "<Figure size 640x480 with 1 Axes>"
      ]
     },
     "metadata": {},
     "output_type": "display_data"
    }
   ],
   "source": [
    "import matplotlib.pyplot as plt\n",
    "\n",
    "plt.plot(hist_values)\n",
    "\n",
    "plt.bar(x=[i for i in range(24)], height=hist_values)"
   ]
  }
 ],
 "metadata": {
  "kernelspec": {
   "display_name": "streamlit",
   "language": "python",
   "name": "python3"
  },
  "language_info": {
   "codemirror_mode": {
    "name": "ipython",
    "version": 3
   },
   "file_extension": ".py",
   "mimetype": "text/x-python",
   "name": "python",
   "nbconvert_exporter": "python",
   "pygments_lexer": "ipython3",
   "version": "3.12.5"
  }
 },
 "nbformat": 4,
 "nbformat_minor": 2
}
