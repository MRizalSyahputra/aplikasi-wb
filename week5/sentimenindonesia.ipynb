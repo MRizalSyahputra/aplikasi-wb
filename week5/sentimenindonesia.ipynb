{
 "cells": [
  {
   "cell_type": "code",
   "execution_count": 2,
   "metadata": {},
   "outputs": [
    {
     "name": "stdout",
     "output_type": "stream",
     "text": [
      "   Id  Sentiment                             Instagram Comment Text\n",
      "0   1         -1   <USERNAME> TOLOL!! Gak ada hubungan nya kegug...\n",
      "1   2         -1  Geblek lo tata...cowo bgt dibela2in balikan......\n",
      "2   3         -1  Kmrn termewek2 skr lengket lg duhhh kok labil ...\n",
      "3   4         -1  Intinya kalau kesel dengan ATT nya, gausah ke ...\n",
      "4   5         -1  hadewwwww permpuan itu lg!!!!sakit jiwa,knp ha...\n"
     ]
    }
   ],
   "source": [
    "import pandas as pd\n",
    "\n",
    "df = pd.read_csv('dataset_komentar_instagram_cyberbullying.csv')\n",
    "\n",
    "df['Sentiment'] = df['Sentiment'].map({\n",
    "    'negative' : -1,\n",
    "    'positive' : 1\n",
    "})\n",
    "\n",
    "print(df.head())"
   ]
  },
  {
   "cell_type": "code",
   "execution_count": 3,
   "metadata": {},
   "outputs": [
    {
     "name": "stderr",
     "output_type": "stream",
     "text": [
      "[nltk_data] Downloading package stopwords to\n",
      "[nltk_data]     C:\\Users\\ACER\\AppData\\Roaming\\nltk_data...\n",
      "[nltk_data]   Package stopwords is already up-to-date!\n"
     ]
    }
   ],
   "source": [
    "import nltk\n",
    "from Sastrawi.Stemmer.StemmerFactory import StemmerFactory\n",
    "from nltk.corpus import stopwords\n",
    "import re\n",
    "\n",
    "nltk.download('stopwords')\n",
    "\n",
    "factory = StemmerFactory()\n",
    "stemmer = factory.create_stemmer(stopwords)\n",
    "\n",
    "stopwords = set(stopwords.words('indonesian'))\n",
    "\n",
    "def preprocess(text) :\n",
    "    text = re.sub(r'\\W', ' ', text)\n",
    "    text = text.lower()\n",
    "    words = text.split()\n",
    "    words = [stemmer.stem(word) for word in words if word not in stopwords]\n",
    "\n",
    "    return ' '.join(words)\n",
    "\n",
    "df['clean'] = df['Instagram Comment Text'].apply(preprocess)"
   ]
  },
  {
   "cell_type": "code",
   "execution_count": 4,
   "metadata": {},
   "outputs": [],
   "source": [
    "from sklearn.model_selection import train_test_split\n",
    "\n",
    "x = df['clean']\n",
    "y = df['Sentiment']\n",
    "\n",
    "x_train, x_test, y_train, y_test = train_test_split(x, y, test_size=0.2, random_state=42)"
   ]
  },
  {
   "cell_type": "code",
   "execution_count": 5,
   "metadata": {},
   "outputs": [],
   "source": [
    "from sklearn.feature_extraction.text import TfidfVectorizer\n",
    "\n",
    "vectorizer = TfidfVectorizer(max_features=5000)\n",
    "xtrainfidf = vectorizer.fit_transform(x_train)\n",
    "xtesttfidf = vectorizer.transform(x_test)"
   ]
  },
  {
   "cell_type": "code",
   "execution_count": 7,
   "metadata": {},
   "outputs": [
    {
     "name": "stdout",
     "output_type": "stream",
     "text": [
      "Akurasi model :  0.9125\n",
      "Detail laporan klasifikasi : \n",
      "               precision    recall  f1-score   support\n",
      "\n",
      "          -1       0.95      0.89      0.92        44\n",
      "           1       0.87      0.94      0.91        36\n",
      "\n",
      "    accuracy                           0.91        80\n",
      "   macro avg       0.91      0.92      0.91        80\n",
      "weighted avg       0.92      0.91      0.91        80\n",
      "\n"
     ]
    }
   ],
   "source": [
    "from sklearn.naive_bayes import MultinomialNB\n",
    "from sklearn.metrics import accuracy_score, classification_report\n",
    "\n",
    "model = MultinomialNB()\n",
    "model.fit(xtrainfidf, y_train)\n",
    "ypred = model.predict(xtesttfidf)\n",
    "\n",
    "print(\"Akurasi model : \", accuracy_score(y_test, ypred))\n",
    "print(\"Detail laporan klasifikasi : \\n\", classification_report(y_test, ypred))"
   ]
  },
  {
   "cell_type": "code",
   "execution_count": 8,
   "metadata": {},
   "outputs": [
    {
     "data": {
      "text/plain": [
       "['indonesiavectorizer.pkl']"
      ]
     },
     "execution_count": 8,
     "metadata": {},
     "output_type": "execute_result"
    }
   ],
   "source": [
    "import joblib\n",
    "from sklearn.ensemble import ExtraTreesClassifier\n",
    "\n",
    "model = ExtraTreesClassifier(n_estimators=100, random_state=42)\n",
    "model.fit(xtrainfidf, y_train)\n",
    "\n",
    "joblib.dump(model, 'indonesiamodel.pkl')\n",
    "joblib.dump(vectorizer, 'indonesiavectorizer.pkl')"
   ]
  }
 ],
 "metadata": {
  "kernelspec": {
   "display_name": ".venv",
   "language": "python",
   "name": "python3"
  },
  "language_info": {
   "codemirror_mode": {
    "name": "ipython",
    "version": 3
   },
   "file_extension": ".py",
   "mimetype": "text/x-python",
   "name": "python",
   "nbconvert_exporter": "python",
   "pygments_lexer": "ipython3",
   "version": "3.12.5"
  }
 },
 "nbformat": 4,
 "nbformat_minor": 2
}
