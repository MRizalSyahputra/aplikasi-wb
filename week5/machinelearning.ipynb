{
 "cells": [
  {
   "cell_type": "code",
   "execution_count": 2,
   "metadata": {},
   "outputs": [
    {
     "name": "stdout",
     "output_type": "stream",
     "text": [
      "<bound method NDFrame.head of        Sentiment                                              Komen\n",
      "0             -1  lagu bosan apa yang aku save ni huhuhuhuhuhuhu...\n",
      "1             -1  kita lanjutkan saja diam ini hingga kau dan ak...\n",
      "2              1  doa rezeki tak putus inna haa zaa larizquna ma...\n",
      "3              1  makasih loh ntar kita bagi hasil aku 99 9 sisa...\n",
      "4             -1  aku tak faham betul jenis orang malaysia yang ...\n",
      "...          ...                                                ...\n",
      "10801          1  Jangan membandingkan kehidupanmu dengan kehidu...\n",
      "10802          0                      Sini uname lu ntar gua follow\n",
      "10803          1  Apapun yg telah kamu lakukan apapun kesalahanm...\n",
      "10804          1  3 cara untuk ingat semula apa yang kita dah ha...\n",
      "10805          1  Semoga Allah permudahkan urusan aku amp orang ...\n",
      "\n",
      "[10806 rows x 2 columns]>\n"
     ]
    }
   ],
   "source": [
    "import pandas as pd\n",
    "\n",
    "df = pd.read_csv('sentimenttwit_fixed.csv')\n",
    "print(df.head)"
   ]
  },
  {
   "cell_type": "code",
   "execution_count": 6,
   "metadata": {},
   "outputs": [
    {
     "name": "stderr",
     "output_type": "stream",
     "text": [
      "[nltk_data] Downloading package stopwords to\n",
      "[nltk_data]     C:\\Users\\ACER\\AppData\\Roaming\\nltk_data...\n",
      "[nltk_data]   Package stopwords is already up-to-date!\n"
     ]
    }
   ],
   "source": [
    "import nltk\n",
    "from Sastrawi.Stemmer.StemmerFactory import StemmerFactory\n",
    "from nltk.corpus import stopwords\n",
    "import re\n",
    "\n",
    "nltk.download('stopwords')\n",
    "\n",
    "factory = StemmerFactory()\n",
    "stemmer = factory.create_stemmer()\n",
    "\n",
    "stopwords = set(stopwords.words('indonesian'))\n",
    "\n",
    "def preprocess(text):\n",
    "    text = re.sub(r'\\W', ' ', text)\n",
    "    text = text.lower()\n",
    "    words = text.split()\n",
    "    words = [stemmer.stem(word) for word in words if word not in stopwords]\n",
    "\n",
    "    return ' '.join(words)\n",
    "\n",
    "df['clean'] = df['Komen'].apply(preprocess)"
   ]
  },
  {
   "cell_type": "code",
   "execution_count": 7,
   "metadata": {},
   "outputs": [],
   "source": [
    "from sklearn.model_selection import train_test_split\n",
    "\n",
    "x = df['clean']\n",
    "y = df['Sentiment']\n",
    "\n",
    "x_train, x_test, y_train, y_test = train_test_split(x, y, test_size=0.2, random_state=42)"
   ]
  },
  {
   "cell_type": "code",
   "execution_count": 22,
   "metadata": {},
   "outputs": [],
   "source": [
    "from sklearn.feature_extraction.text import TfidfVectorizer\n",
    "\n",
    "vectorizer = TfidfVectorizer(max_features=6468)\n",
    "x_train_tfidf = vectorizer.fit_transform(x_train)\n",
    "x_test_tfidf = vectorizer.fit_transform(x_test)"
   ]
  },
  {
   "cell_type": "code",
   "execution_count": 23,
   "metadata": {},
   "outputs": [
    {
     "name": "stdout",
     "output_type": "stream",
     "text": [
      "keakuratan :  0.44912118408880664\n",
      "klasifikasi : \n",
      "               precision    recall  f1-score   support\n",
      "\n",
      "          -1       0.27      0.15      0.20       560\n",
      "           0       0.51      0.76      0.61      1101\n",
      "           1       0.22      0.09      0.13       501\n",
      "\n",
      "    accuracy                           0.45      2162\n",
      "   macro avg       0.33      0.34      0.31      2162\n",
      "weighted avg       0.38      0.45      0.39      2162\n",
      "\n"
     ]
    }
   ],
   "source": [
    "from sklearn.naive_bayes import MultinomialNB\n",
    "from sklearn.metrics import accuracy_score, classification_report\n",
    "\n",
    "model = MultinomialNB()\n",
    "model.fit(x_train_tfidf, y_train)\n",
    "\n",
    "y_pred = model.predict(x_test_tfidf)\n",
    "\n",
    "print(\"keakuratan : \", accuracy_score(y_test, y_pred))\n",
    "print(\"klasifikasi : \\n\", classification_report(y_test, y_pred))"
   ]
  },
  {
   "cell_type": "code",
   "execution_count": 24,
   "metadata": {},
   "outputs": [
    {
     "data": {
      "text/plain": [
       "['vectorizer.pkl']"
      ]
     },
     "execution_count": 24,
     "metadata": {},
     "output_type": "execute_result"
    }
   ],
   "source": [
    "import joblib\n",
    "from sklearn.ensemble import ExtraTreesClassifier\n",
    "\n",
    "model = ExtraTreesClassifier(n_estimators=100, random_state=42)\n",
    "model.fit(x_train_tfidf, y_train)\n",
    "\n",
    "joblib.dump(model, 'model.pkl')\n",
    "joblib.dump(vectorizer, 'vectorizer.pkl')"
   ]
  }
 ],
 "metadata": {
  "kernelspec": {
   "display_name": ".venv",
   "language": "python",
   "name": "python3"
  },
  "language_info": {
   "codemirror_mode": {
    "name": "ipython",
    "version": 3
   },
   "file_extension": ".py",
   "mimetype": "text/x-python",
   "name": "python",
   "nbconvert_exporter": "python",
   "pygments_lexer": "ipython3",
   "version": "3.12.5"
  }
 },
 "nbformat": 4,
 "nbformat_minor": 2
}
